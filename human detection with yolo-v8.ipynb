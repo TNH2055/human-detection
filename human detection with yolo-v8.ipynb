{
 "cells": [
  {
   "cell_type": "code",
   "execution_count": null,
   "metadata": {},
   "outputs": [],
   "source": [
    "### This is the code used to train the pretrained yolo-v8 model with custom dataset###\n",
    "\n",
    "from ultralytics import YOLO\n",
    "\n",
    "model = YOLO(\"yolov8n.pt\")  # load a pretrained model (recommended for training)\n",
    "\n",
    "model.train(data=\"path/to/custom/dataset/data.yaml\", epochs=100)  # train the model\n",
    "metrics = model.val()  # evaluate model performance on the validation set\n",
    "results = model(\"path/to/test image.jpg\")  # predict on an image"
   ]
  },
  {
   "cell_type": "code",
   "execution_count": null,
   "metadata": {},
   "outputs": [],
   "source": [
    "## This section can be utilized in various scripts to perform predecisions and obtain an output.\n",
    "from ultralytics import YOLO\n",
    "import PIL\n",
    "# Load the model \n",
    "model = YOLO('path/to/the trained/model/best.pt') \n",
    "\n",
    "def preprosses(path):\n",
    "    image_path = path  \n",
    "    target_size = (640, 640)\n",
    "    image = PIL.Image.open(image_path)\n",
    "    image = image.resize(target_size)\n",
    "    return image"
   ]
  },
  {
   "cell_type": "code",
   "execution_count": null,
   "metadata": {},
   "outputs": [],
   "source": [
    "##you can ignore this part as this is just to visualize the image \n",
    "from IPython.display import Image\n",
    "Image(filename=\"path/to/image.jpg\", width=300,height=200) "
   ]
  },
  {
   "cell_type": "code",
   "execution_count": null,
   "metadata": {},
   "outputs": [],
   "source": [
    "x=preprosses(\"path/to/image.jpg\")\n",
    "predictions = model.predict(x,save=True)"
   ]
  }
 ],
 "metadata": {
  "language_info": {
   "name": "python"
  }
 },
 "nbformat": 4,
 "nbformat_minor": 2
}
